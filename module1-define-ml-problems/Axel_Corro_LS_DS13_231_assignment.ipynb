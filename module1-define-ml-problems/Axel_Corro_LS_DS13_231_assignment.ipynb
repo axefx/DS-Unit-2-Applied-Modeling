{
  "nbformat": 4,
  "nbformat_minor": 0,
  "metadata": {
    "kernelspec": {
      "display_name": "Python 3",
      "language": "python",
      "name": "python3"
    },
    "language_info": {
      "codemirror_mode": {
        "name": "ipython",
        "version": 3
      },
      "file_extension": ".py",
      "mimetype": "text/x-python",
      "name": "python",
      "nbconvert_exporter": "python",
      "pygments_lexer": "ipython3",
      "version": "3.7.6"
    },
    "colab": {
      "name": "Axel_Corro_LS_DS13_231_assignment.ipynb",
      "provenance": [],
      "include_colab_link": true
    }
  },
  "cells": [
    {
      "cell_type": "markdown",
      "metadata": {
        "id": "view-in-github",
        "colab_type": "text"
      },
      "source": [
        "<a href=\"https://colab.research.google.com/github/axefx/DS-Unit-2-Applied-Modeling/blob/master/module1-define-ml-problems/Axel_Corro_LS_DS13_231_assignment.ipynb\" target=\"_parent\"><img src=\"https://colab.research.google.com/assets/colab-badge.svg\" alt=\"Open In Colab\"/></a>"
      ]
    },
    {
      "cell_type": "markdown",
      "metadata": {
        "colab_type": "text",
        "id": "nCc3XZEyG3XV"
      },
      "source": [
        "Lambda School Data Science\n",
        "\n",
        "*Unit 2, Sprint 3, Module 1*\n",
        "\n",
        "---\n",
        "\n",
        "\n",
        "# Define ML problems\n",
        "\n",
        "You will use your portfolio project dataset for all assignments this sprint.\n",
        "\n",
        "## Assignment\n",
        "\n",
        "Complete these tasks for your project, and document your decisions.\n",
        "\n",
        "- [ ] Choose your target. Which column in your tabular dataset will you predict?\n",
        "- [ ] Is your problem regression or classification?\n",
        "- [ ] How is your target distributed?\n",
        "    - Classification: How many classes? Are the classes imbalanced?\n",
        "    - Regression: Is the target right-skewed? If so, you may want to log transform the target.\n",
        "- [ ] Choose your evaluation metric(s).\n",
        "    - Classification: Is your majority class frequency >= 50% and < 70% ? If so, you can just use accuracy if you want. Outside that range, accuracy could be misleading. What evaluation metric will you choose, in addition to or instead of accuracy?\n",
        "    - Regression: Will you use mean absolute error, root mean squared error, R^2, or other regression metrics?\n",
        "- [ ] Choose which observations you will use to train, validate, and test your model.\n",
        "    - Are some observations outliers? Will you exclude them?\n",
        "    - Will you do a random split or a time-based split?\n",
        "- [ ] Begin to clean and explore your data.\n",
        "- [ ] Begin to choose which features, if any, to exclude. Would some features \"leak\" future information?\n",
        "\n",
        "If you haven't found a dataset yet, do that today. [Review requirements for your portfolio project](https://lambdaschool.github.io/ds/unit2) and choose your dataset.\n",
        "\n",
        "Some students worry, ***what if my model isn't “good”?*** Then, [produce a detailed tribute to your wrongness. That is science!](https://twitter.com/nathanwpyle/status/1176860147223867393)"
      ]
    },
    {
      "cell_type": "markdown",
      "metadata": {
        "id": "AQNOnvSkmhJ0",
        "colab_type": "text"
      },
      "source": [
        "source: https://www.kaggle.com/arindam235/startup-investments-crunchbase"
      ]
    },
    {
      "cell_type": "code",
      "metadata": {
        "id": "AD4tKPes7S1z",
        "colab_type": "code",
        "colab": {}
      },
      "source": [
        "import pandas as pd"
      ],
      "execution_count": 0,
      "outputs": []
    },
    {
      "cell_type": "code",
      "metadata": {
        "id": "NgEe2yIY7WKb",
        "colab_type": "code",
        "outputId": "ffd450b3-b31f-4abd-98d5-339911f0e3a6",
        "colab": {
          "base_uri": "https://localhost:8080/",
          "height": 320
        }
      },
      "source": [
        "df = pd.read_csv('https://raw.githubusercontent.com/axefx/sample_datasets/master/investments_VC.csv', encoding= 'unicode_escape')\n",
        "df.head()"
      ],
      "execution_count": 50,
      "outputs": [
        {
          "output_type": "execute_result",
          "data": {
            "text/html": [
              "<div>\n",
              "<style scoped>\n",
              "    .dataframe tbody tr th:only-of-type {\n",
              "        vertical-align: middle;\n",
              "    }\n",
              "\n",
              "    .dataframe tbody tr th {\n",
              "        vertical-align: top;\n",
              "    }\n",
              "\n",
              "    .dataframe thead th {\n",
              "        text-align: right;\n",
              "    }\n",
              "</style>\n",
              "<table border=\"1\" class=\"dataframe\">\n",
              "  <thead>\n",
              "    <tr style=\"text-align: right;\">\n",
              "      <th></th>\n",
              "      <th>permalink</th>\n",
              "      <th>name</th>\n",
              "      <th>homepage_url</th>\n",
              "      <th>category_list</th>\n",
              "      <th>market</th>\n",
              "      <th>funding_total_usd</th>\n",
              "      <th>status</th>\n",
              "      <th>country_code</th>\n",
              "      <th>state_code</th>\n",
              "      <th>region</th>\n",
              "      <th>city</th>\n",
              "      <th>funding_rounds</th>\n",
              "      <th>founded_at</th>\n",
              "      <th>founded_month</th>\n",
              "      <th>founded_quarter</th>\n",
              "      <th>founded_year</th>\n",
              "      <th>first_funding_at</th>\n",
              "      <th>last_funding_at</th>\n",
              "      <th>seed</th>\n",
              "      <th>venture</th>\n",
              "      <th>equity_crowdfunding</th>\n",
              "      <th>undisclosed</th>\n",
              "      <th>convertible_note</th>\n",
              "      <th>debt_financing</th>\n",
              "      <th>angel</th>\n",
              "      <th>grant</th>\n",
              "      <th>private_equity</th>\n",
              "      <th>post_ipo_equity</th>\n",
              "      <th>post_ipo_debt</th>\n",
              "      <th>secondary_market</th>\n",
              "      <th>product_crowdfunding</th>\n",
              "      <th>round_A</th>\n",
              "      <th>round_B</th>\n",
              "      <th>round_C</th>\n",
              "      <th>round_D</th>\n",
              "      <th>round_E</th>\n",
              "      <th>round_F</th>\n",
              "      <th>round_G</th>\n",
              "      <th>round_H</th>\n",
              "    </tr>\n",
              "  </thead>\n",
              "  <tbody>\n",
              "    <tr>\n",
              "      <th>0</th>\n",
              "      <td>/organization/waywire</td>\n",
              "      <td>waywire</td>\n",
              "      <td>http://www.waywire.com</td>\n",
              "      <td>|Entertainment|Politics|Social Media|News|</td>\n",
              "      <td>News</td>\n",
              "      <td>17,50,000</td>\n",
              "      <td>acquired</td>\n",
              "      <td>USA</td>\n",
              "      <td>NY</td>\n",
              "      <td>New York City</td>\n",
              "      <td>New York</td>\n",
              "      <td>1.0</td>\n",
              "      <td>2012-06-01</td>\n",
              "      <td>2012-06</td>\n",
              "      <td>2012-Q2</td>\n",
              "      <td>2012.0</td>\n",
              "      <td>2012-06-30</td>\n",
              "      <td>2012-06-30</td>\n",
              "      <td>1750000.0</td>\n",
              "      <td>0.0</td>\n",
              "      <td>0.0</td>\n",
              "      <td>0.0</td>\n",
              "      <td>0.0</td>\n",
              "      <td>0.0</td>\n",
              "      <td>0.0</td>\n",
              "      <td>0.0</td>\n",
              "      <td>0.0</td>\n",
              "      <td>0.0</td>\n",
              "      <td>0.0</td>\n",
              "      <td>0.0</td>\n",
              "      <td>0.0</td>\n",
              "      <td>0.0</td>\n",
              "      <td>0.0</td>\n",
              "      <td>0.0</td>\n",
              "      <td>0.0</td>\n",
              "      <td>0.0</td>\n",
              "      <td>0.0</td>\n",
              "      <td>0.0</td>\n",
              "      <td>0.0</td>\n",
              "    </tr>\n",
              "    <tr>\n",
              "      <th>1</th>\n",
              "      <td>/organization/tv-communications</td>\n",
              "      <td>&amp;TV Communications</td>\n",
              "      <td>http://enjoyandtv.com</td>\n",
              "      <td>|Games|</td>\n",
              "      <td>Games</td>\n",
              "      <td>40,00,000</td>\n",
              "      <td>operating</td>\n",
              "      <td>USA</td>\n",
              "      <td>CA</td>\n",
              "      <td>Los Angeles</td>\n",
              "      <td>Los Angeles</td>\n",
              "      <td>2.0</td>\n",
              "      <td>NaN</td>\n",
              "      <td>NaN</td>\n",
              "      <td>NaN</td>\n",
              "      <td>NaN</td>\n",
              "      <td>2010-06-04</td>\n",
              "      <td>2010-09-23</td>\n",
              "      <td>0.0</td>\n",
              "      <td>4000000.0</td>\n",
              "      <td>0.0</td>\n",
              "      <td>0.0</td>\n",
              "      <td>0.0</td>\n",
              "      <td>0.0</td>\n",
              "      <td>0.0</td>\n",
              "      <td>0.0</td>\n",
              "      <td>0.0</td>\n",
              "      <td>0.0</td>\n",
              "      <td>0.0</td>\n",
              "      <td>0.0</td>\n",
              "      <td>0.0</td>\n",
              "      <td>0.0</td>\n",
              "      <td>0.0</td>\n",
              "      <td>0.0</td>\n",
              "      <td>0.0</td>\n",
              "      <td>0.0</td>\n",
              "      <td>0.0</td>\n",
              "      <td>0.0</td>\n",
              "      <td>0.0</td>\n",
              "    </tr>\n",
              "    <tr>\n",
              "      <th>2</th>\n",
              "      <td>/organization/rock-your-paper</td>\n",
              "      <td>'Rock' Your Paper</td>\n",
              "      <td>http://www.rockyourpaper.org</td>\n",
              "      <td>|Publishing|Education|</td>\n",
              "      <td>Publishing</td>\n",
              "      <td>40,000</td>\n",
              "      <td>operating</td>\n",
              "      <td>EST</td>\n",
              "      <td>NaN</td>\n",
              "      <td>Tallinn</td>\n",
              "      <td>Tallinn</td>\n",
              "      <td>1.0</td>\n",
              "      <td>2012-10-26</td>\n",
              "      <td>2012-10</td>\n",
              "      <td>2012-Q4</td>\n",
              "      <td>2012.0</td>\n",
              "      <td>2012-08-09</td>\n",
              "      <td>2012-08-09</td>\n",
              "      <td>40000.0</td>\n",
              "      <td>0.0</td>\n",
              "      <td>0.0</td>\n",
              "      <td>0.0</td>\n",
              "      <td>0.0</td>\n",
              "      <td>0.0</td>\n",
              "      <td>0.0</td>\n",
              "      <td>0.0</td>\n",
              "      <td>0.0</td>\n",
              "      <td>0.0</td>\n",
              "      <td>0.0</td>\n",
              "      <td>0.0</td>\n",
              "      <td>0.0</td>\n",
              "      <td>0.0</td>\n",
              "      <td>0.0</td>\n",
              "      <td>0.0</td>\n",
              "      <td>0.0</td>\n",
              "      <td>0.0</td>\n",
              "      <td>0.0</td>\n",
              "      <td>0.0</td>\n",
              "      <td>0.0</td>\n",
              "    </tr>\n",
              "    <tr>\n",
              "      <th>3</th>\n",
              "      <td>/organization/in-touch-network</td>\n",
              "      <td>(In)Touch Network</td>\n",
              "      <td>http://www.InTouchNetwork.com</td>\n",
              "      <td>|Electronics|Guides|Coffee|Restaurants|Music|i...</td>\n",
              "      <td>Electronics</td>\n",
              "      <td>15,00,000</td>\n",
              "      <td>operating</td>\n",
              "      <td>GBR</td>\n",
              "      <td>NaN</td>\n",
              "      <td>London</td>\n",
              "      <td>London</td>\n",
              "      <td>1.0</td>\n",
              "      <td>2011-04-01</td>\n",
              "      <td>2011-04</td>\n",
              "      <td>2011-Q2</td>\n",
              "      <td>2011.0</td>\n",
              "      <td>2011-04-01</td>\n",
              "      <td>2011-04-01</td>\n",
              "      <td>1500000.0</td>\n",
              "      <td>0.0</td>\n",
              "      <td>0.0</td>\n",
              "      <td>0.0</td>\n",
              "      <td>0.0</td>\n",
              "      <td>0.0</td>\n",
              "      <td>0.0</td>\n",
              "      <td>0.0</td>\n",
              "      <td>0.0</td>\n",
              "      <td>0.0</td>\n",
              "      <td>0.0</td>\n",
              "      <td>0.0</td>\n",
              "      <td>0.0</td>\n",
              "      <td>0.0</td>\n",
              "      <td>0.0</td>\n",
              "      <td>0.0</td>\n",
              "      <td>0.0</td>\n",
              "      <td>0.0</td>\n",
              "      <td>0.0</td>\n",
              "      <td>0.0</td>\n",
              "      <td>0.0</td>\n",
              "    </tr>\n",
              "    <tr>\n",
              "      <th>4</th>\n",
              "      <td>/organization/r-ranch-and-mine</td>\n",
              "      <td>-R- Ranch and Mine</td>\n",
              "      <td>NaN</td>\n",
              "      <td>|Tourism|Entertainment|Games|</td>\n",
              "      <td>Tourism</td>\n",
              "      <td>60,000</td>\n",
              "      <td>operating</td>\n",
              "      <td>USA</td>\n",
              "      <td>TX</td>\n",
              "      <td>Dallas</td>\n",
              "      <td>Fort Worth</td>\n",
              "      <td>2.0</td>\n",
              "      <td>2014-01-01</td>\n",
              "      <td>2014-01</td>\n",
              "      <td>2014-Q1</td>\n",
              "      <td>2014.0</td>\n",
              "      <td>2014-08-17</td>\n",
              "      <td>2014-09-26</td>\n",
              "      <td>0.0</td>\n",
              "      <td>0.0</td>\n",
              "      <td>60000.0</td>\n",
              "      <td>0.0</td>\n",
              "      <td>0.0</td>\n",
              "      <td>0.0</td>\n",
              "      <td>0.0</td>\n",
              "      <td>0.0</td>\n",
              "      <td>0.0</td>\n",
              "      <td>0.0</td>\n",
              "      <td>0.0</td>\n",
              "      <td>0.0</td>\n",
              "      <td>0.0</td>\n",
              "      <td>0.0</td>\n",
              "      <td>0.0</td>\n",
              "      <td>0.0</td>\n",
              "      <td>0.0</td>\n",
              "      <td>0.0</td>\n",
              "      <td>0.0</td>\n",
              "      <td>0.0</td>\n",
              "      <td>0.0</td>\n",
              "    </tr>\n",
              "  </tbody>\n",
              "</table>\n",
              "</div>"
            ],
            "text/plain": [
              "                         permalink                name  ... round_G round_H\n",
              "0            /organization/waywire             waywire  ...     0.0     0.0\n",
              "1  /organization/tv-communications  &TV Communications  ...     0.0     0.0\n",
              "2    /organization/rock-your-paper   'Rock' Your Paper  ...     0.0     0.0\n",
              "3   /organization/in-touch-network   (In)Touch Network  ...     0.0     0.0\n",
              "4   /organization/r-ranch-and-mine  -R- Ranch and Mine  ...     0.0     0.0\n",
              "\n",
              "[5 rows x 39 columns]"
            ]
          },
          "metadata": {
            "tags": []
          },
          "execution_count": 50
        }
      ]
    },
    {
      "cell_type": "code",
      "metadata": {
        "id": "duinrYu-mZee",
        "colab_type": "code",
        "colab": {}
      },
      "source": [
        "# Choose your target. Which column in your tabular dataset will you predict?\n",
        "target = 'status'"
      ],
      "execution_count": 0,
      "outputs": []
    },
    {
      "cell_type": "code",
      "metadata": {
        "id": "AOxoaTAnmwnM",
        "colab_type": "code",
        "outputId": "bbb3a171-0ec0-4401-d3c9-ee0be68ef452",
        "colab": {
          "base_uri": "https://localhost:8080/",
          "height": 82
        }
      },
      "source": [
        "# Is your problem regression or classification? classification\n",
        "df[target].value_counts()"
      ],
      "execution_count": 52,
      "outputs": [
        {
          "output_type": "execute_result",
          "data": {
            "text/plain": [
              "operating    41829\n",
              "acquired      3692\n",
              "closed        2603\n",
              "Name: status, dtype: int64"
            ]
          },
          "metadata": {
            "tags": []
          },
          "execution_count": 52
        }
      ]
    },
    {
      "cell_type": "code",
      "metadata": {
        "id": "3jhotmfOm3tF",
        "colab_type": "code",
        "outputId": "34a1418d-f06a-407c-9d8f-4aaaea0af952",
        "colab": {
          "base_uri": "https://localhost:8080/",
          "height": 368
        }
      },
      "source": [
        "# How is your target distributed?\n",
        "# Classification: How many classes? Are the classes imbalanced?\n",
        "print(df[target].value_counts(normalize=True))\n",
        "df[target].value_counts(normalize=True).plot.bar();"
      ],
      "execution_count": 53,
      "outputs": [
        {
          "output_type": "stream",
          "text": [
            "operating    0.869192\n",
            "acquired     0.076718\n",
            "closed       0.054089\n",
            "Name: status, dtype: float64\n"
          ],
          "name": "stdout"
        },
        {
          "output_type": "display_data",
          "data": {
            "image/png": "[encoded data removed]",
            "text/plain": [
              "<Figure size 432x288 with 1 Axes>"
            ]
          },
          "metadata": {
            "tags": []
          }
        }
      ]
    },
    {
      "cell_type": "code",
      "metadata": {
        "id": "96qJWonInnQK",
        "colab_type": "code",
        "outputId": "bcc4a60d-9160-47f8-f4da-558aaedeb3f9",
        "colab": {
          "base_uri": "https://localhost:8080/",
          "height": 294
        }
      },
      "source": [
        "import seaborn as sns\n",
        "sns.distplot(df[target].value_counts(normalize=True))"
      ],
      "execution_count": 54,
      "outputs": [
        {
          "output_type": "execute_result",
          "data": {
            "text/plain": [
              "<matplotlib.axes._subplots.AxesSubplot at 0x7fa70c62cb70>"
            ]
          },
          "metadata": {
            "tags": []
          },
          "execution_count": 54
        },
        {
          "output_type": "display_data",
          "data": {
            "image/png": "[encoded data removed]",
            "text/plain": [
              "<Figure size 432x288 with 1 Axes>"
            ]
          },
          "metadata": {
            "tags": []
          }
        }
      ]
    },
    {
      "cell_type": "code",
      "metadata": {
        "id": "wF_0Ui-lnINs",
        "colab_type": "code",
        "colab": {}
      },
      "source": [
        "# Choose your evaluation metric(s).\n",
        "# precision \n",
        "from sklearn.metrics import precision_score"
      ],
      "execution_count": 0,
      "outputs": []
    },
    {
      "cell_type": "code",
      "metadata": {
        "id": "msngAvLjnyY_",
        "colab_type": "code",
        "outputId": "933a1de5-c2f9-48e0-da80-bbfa738a48dc",
        "colab": {
          "base_uri": "https://localhost:8080/",
          "height": 741
        }
      },
      "source": [
        "# Choose which observations you will use to train, validate, and test your model.\n",
        "df.info()"
      ],
      "execution_count": 56,
      "outputs": [
        {
          "output_type": "stream",
          "text": [
            "<class 'pandas.core.frame.DataFrame'>\n",
            "RangeIndex: 54294 entries, 0 to 54293\n",
            "Data columns (total 39 columns):\n",
            "permalink               49438 non-null object\n",
            "name                    49437 non-null object\n",
            "homepage_url            45989 non-null object\n",
            "category_list           45477 non-null object\n",
            " market                 45470 non-null object\n",
            "funding_total_usd       49438 non-null object\n",
            "status                  48124 non-null object\n",
            "country_code            44165 non-null object\n",
            "state_code              30161 non-null object\n",
            "region                  44165 non-null object\n",
            "city                    43322 non-null object\n",
            "funding_rounds          49438 non-null float64\n",
            "founded_at              38554 non-null object\n",
            "founded_month           38482 non-null object\n",
            "founded_quarter         38482 non-null object\n",
            "founded_year            38482 non-null float64\n",
            "first_funding_at        49438 non-null object\n",
            "last_funding_at         49438 non-null object\n",
            "seed                    49438 non-null float64\n",
            "venture                 49438 non-null float64\n",
            "equity_crowdfunding     49438 non-null float64\n",
            "undisclosed             49438 non-null float64\n",
            "convertible_note        49438 non-null float64\n",
            "debt_financing          49438 non-null float64\n",
            "angel                   49438 non-null float64\n",
            "grant                   49438 non-null float64\n",
            "private_equity          49438 non-null float64\n",
            "post_ipo_equity         49438 non-null float64\n",
            "post_ipo_debt           49438 non-null float64\n",
            "secondary_market        49438 non-null float64\n",
            "product_crowdfunding    49438 non-null float64\n",
            "round_A                 49438 non-null float64\n",
            "round_B                 49438 non-null float64\n",
            "round_C                 49438 non-null float64\n",
            "round_D                 49438 non-null float64\n",
            "round_E                 49438 non-null float64\n",
            "round_F                 49438 non-null float64\n",
            "round_G                 49438 non-null float64\n",
            "round_H                 49438 non-null float64\n",
            "dtypes: float64(23), object(16)\n",
            "memory usage: 16.2+ MB\n"
          ],
          "name": "stdout"
        }
      ]
    },
    {
      "cell_type": "code",
      "metadata": {
        "id": "tFImml8Hp4P0",
        "colab_type": "code",
        "colab": {}
      },
      "source": [
        "# unusable columns\n",
        "unusable = ['permalink','name','homepage_url']"
      ],
      "execution_count": 0,
      "outputs": []
    },
    {
      "cell_type": "code",
      "metadata": {
        "id": "RZLXA9Z4vhfZ",
        "colab_type": "code",
        "colab": {
          "base_uri": "https://localhost:8080/",
          "height": 32
        },
        "outputId": "9b0b6b90-f56d-40c4-e065-5f9a235c3cc5"
      },
      "source": [
        "df.iloc[:, [4]].columns#.value_counts()"
      ],
      "execution_count": 80,
      "outputs": [
        {
          "output_type": "execute_result",
          "data": {
            "text/plain": [
              "Index([' market '], dtype='object')"
            ]
          },
          "metadata": {
            "tags": []
          },
          "execution_count": 80
        }
      ]
    },
    {
      "cell_type": "code",
      "metadata": {
        "id": "S5CLYBxXvWmy",
        "colab_type": "code",
        "colab": {}
      },
      "source": [
        "df.columns = df.columns.str.strip()\n",
        "\n",
        "# TODO\n",
        "# encode category_list"
      ],
      "execution_count": 0,
      "outputs": []
    },
    {
      "cell_type": "code",
      "metadata": {
        "id": "a6tCchmKGwMJ",
        "colab_type": "code",
        "colab": {
          "base_uri": "https://localhost:8080/",
          "height": 214
        },
        "outputId": "45d0171d-ecf6-4fea-ba8f-d2c908853667"
      },
      "source": [
        "df['market']"
      ],
      "execution_count": 84,
      "outputs": [
        {
          "output_type": "execute_result",
          "data": {
            "text/plain": [
              "0                News \n",
              "1               Games \n",
              "2          Publishing \n",
              "3         Electronics \n",
              "4             Tourism \n",
              "             ...      \n",
              "54289              NaN\n",
              "54290              NaN\n",
              "54291              NaN\n",
              "54292              NaN\n",
              "54293              NaN\n",
              "Name: market, Length: 54294, dtype: object"
            ]
          },
          "metadata": {
            "tags": []
          },
          "execution_count": 84
        }
      ]
    },
    {
      "cell_type": "code",
      "metadata": {
        "id": "Pm0iuXdkIbDt",
        "colab_type": "code",
        "colab": {}
      },
      "source": [
        ""
      ],
      "execution_count": 0,
      "outputs": []
    }
  ]
}