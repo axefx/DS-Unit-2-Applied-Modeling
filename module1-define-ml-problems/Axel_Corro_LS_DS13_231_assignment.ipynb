{
  "nbformat": 4,
  "nbformat_minor": 0,
  "metadata": {
    "kernelspec": {
      "display_name": "Python 3",
      "language": "python",
      "name": "python3"
    },
    "language_info": {
      "codemirror_mode": {
        "name": "ipython",
        "version": 3
      },
      "file_extension": ".py",
      "mimetype": "text/x-python",
      "name": "python",
      "nbconvert_exporter": "python",
      "pygments_lexer": "ipython3",
      "version": "3.7.6"
    },
    "colab": {
      "name": "Axel_Corro_LS_DS13_231_assignment.ipynb",
      "provenance": [],
      "include_colab_link": true
    }
  },
  "cells": [
    {
      "cell_type": "markdown",
      "metadata": {
        "id": "view-in-github",
        "colab_type": "text"
      },
      "source": [
        "<a href=\"https://colab.research.google.com/github/axefx/DS-Unit-2-Applied-Modeling/blob/master/module1-define-ml-problems/Axel_Corro_LS_DS13_231_assignment.ipynb\" target=\"_parent\"><img src=\"https://colab.research.google.com/assets/colab-badge.svg\" alt=\"Open In Colab\"/></a>"
      ]
    },
    {
      "cell_type": "markdown",
      "metadata": {
        "colab_type": "text",
        "id": "nCc3XZEyG3XV"
      },
      "source": [
        "Lambda School Data Science\n",
        "\n",
        "*Unit 2, Sprint 3, Module 1*\n",
        "\n",
        "---\n",
        "\n",
        "\n",
        "# Define ML problems\n",
        "\n",
        "You will use your portfolio project dataset for all assignments this sprint.\n",
        "\n",
        "## Assignment\n",
        "\n",
        "Complete these tasks for your project, and document your decisions.\n",
        "\n",
        "- [ ] Choose your target. Which column in your tabular dataset will you predict?\n",
        "- [ ] Is your problem regression or classification?\n",
        "- [ ] How is your target distributed?\n",
        "    - Classification: How many classes? Are the classes imbalanced?\n",
        "    - Regression: Is the target right-skewed? If so, you may want to log transform the target.\n",
        "- [ ] Choose your evaluation metric(s).\n",
        "    - Classification: Is your majority class frequency >= 50% and < 70% ? If so, you can just use accuracy if you want. Outside that range, accuracy could be misleading. What evaluation metric will you choose, in addition to or instead of accuracy?\n",
        "    - Regression: Will you use mean absolute error, root mean squared error, R^2, or other regression metrics?\n",
        "- [ ] Choose which observations you will use to train, validate, and test your model.\n",
        "    - Are some observations outliers? Will you exclude them?\n",
        "    - Will you do a random split or a time-based split?\n",
        "- [ ] Begin to clean and explore your data.\n",
        "- [ ] Begin to choose which features, if any, to exclude. Would some features \"leak\" future information?\n",
        "\n",
        "If you haven't found a dataset yet, do that today. [Review requirements for your portfolio project](https://lambdaschool.github.io/ds/unit2) and choose your dataset.\n",
        "\n",
        "Some students worry, ***what if my model isn't “good”?*** Then, [produce a detailed tribute to your wrongness. That is science!](https://twitter.com/nathanwpyle/status/1176860147223867393)"
      ]
    },
    {
      "cell_type": "markdown",
      "metadata": {
        "id": "AQNOnvSkmhJ0",
        "colab_type": "text"
      },
      "source": [
        "source: https://www.kaggle.com/arindam235/startup-investments-crunchbase"
      ]
    },
    {
      "cell_type": "code",
      "metadata": {
        "id": "AD4tKPes7S1z",
        "colab_type": "code",
        "colab": {}
      },
      "source": [
        "import pandas as pd\n",
        "from sklearn.model_selection import train_test_split"
      ],
      "execution_count": 0,
      "outputs": []
    },
    {
      "cell_type": "code",
      "metadata": {
        "id": "7SUg5J2gZNF5",
        "colab_type": "code",
        "colab": {
          "base_uri": "https://localhost:8080/",
          "height": 283
        },
        "outputId": "3b6538c5-ed60-4cbe-9cd8-413ff81adc50"
      },
      "source": [
        "!pip install category_encoders==2.*"
      ],
      "execution_count": 34,
      "outputs": [
        {
          "output_type": "stream",
          "text": [
            "Collecting category_encoders==2.*\n",
            "\u001b[?25l  Downloading https://files.pythonhosted.org/packages/a0/52/c54191ad3782de633ea3d6ee3bb2837bda0cf3bc97644bb6375cf14150a0/category_encoders-2.1.0-py2.py3-none-any.whl (100kB)\n",
            "\r\u001b[K     |███▎                            | 10kB 19.6MB/s eta 0:00:01\r\u001b[K     |██████▌                         | 20kB 3.3MB/s eta 0:00:01\r\u001b[K     |█████████▉                      | 30kB 4.8MB/s eta 0:00:01\r\u001b[K     |█████████████                   | 40kB 3.1MB/s eta 0:00:01\r\u001b[K     |████████████████▍               | 51kB 3.8MB/s eta 0:00:01\r\u001b[K     |███████████████████▋            | 61kB 4.5MB/s eta 0:00:01\r\u001b[K     |██████████████████████▉         | 71kB 5.2MB/s eta 0:00:01\r\u001b[K     |██████████████████████████▏     | 81kB 5.9MB/s eta 0:00:01\r\u001b[K     |█████████████████████████████▍  | 92kB 6.6MB/s eta 0:00:01\r\u001b[K     |████████████████████████████████| 102kB 3.6MB/s \n",
            "\u001b[?25hRequirement already satisfied: pandas>=0.21.1 in /usr/local/lib/python3.6/dist-packages (from category_encoders==2.*) (0.25.3)\n",
            "Requirement already satisfied: scipy>=0.19.0 in /usr/local/lib/python3.6/dist-packages (from category_encoders==2.*) (1.4.1)\n",
            "Requirement already satisfied: scikit-learn>=0.20.0 in /usr/local/lib/python3.6/dist-packages (from category_encoders==2.*) (0.22.2.post1)\n",
            "Requirement already satisfied: patsy>=0.4.1 in /usr/local/lib/python3.6/dist-packages (from category_encoders==2.*) (0.5.1)\n",
            "Requirement already satisfied: numpy>=1.11.3 in /usr/local/lib/python3.6/dist-packages (from category_encoders==2.*) (1.18.2)\n",
            "Requirement already satisfied: statsmodels>=0.6.1 in /usr/local/lib/python3.6/dist-packages (from category_encoders==2.*) (0.10.2)\n",
            "Requirement already satisfied: pytz>=2017.2 in /usr/local/lib/python3.6/dist-packages (from pandas>=0.21.1->category_encoders==2.*) (2018.9)\n",
            "Requirement already satisfied: python-dateutil>=2.6.1 in /usr/local/lib/python3.6/dist-packages (from pandas>=0.21.1->category_encoders==2.*) (2.8.1)\n",
            "Requirement already satisfied: joblib>=0.11 in /usr/local/lib/python3.6/dist-packages (from scikit-learn>=0.20.0->category_encoders==2.*) (0.14.1)\n",
            "Requirement already satisfied: six in /usr/local/lib/python3.6/dist-packages (from patsy>=0.4.1->category_encoders==2.*) (1.12.0)\n",
            "Installing collected packages: category-encoders\n",
            "Successfully installed category-encoders-2.1.0\n"
          ],
          "name": "stdout"
        }
      ]
    },
    {
      "cell_type": "code",
      "metadata": {
        "id": "NgEe2yIY7WKb",
        "colab_type": "code",
        "outputId": "c9698a35-75b2-42f6-f6ea-88e9ed799633",
        "colab": {
          "base_uri": "https://localhost:8080/",
          "height": 320
        }
      },
      "source": [
        "df = pd.read_csv('https://raw.githubusercontent.com/axefx/sample_datasets/master/investments_VC.csv', encoding= 'unicode_escape')\n",
        "df.head()"
      ],
      "execution_count": 3,
      "outputs": [
        {
          "output_type": "execute_result",
          "data": {
            "text/html": [
              "<div>\n",
              "<style scoped>\n",
              "    .dataframe tbody tr th:only-of-type {\n",
              "        vertical-align: middle;\n",
              "    }\n",
              "\n",
              "    .dataframe tbody tr th {\n",
              "        vertical-align: top;\n",
              "    }\n",
              "\n",
              "    .dataframe thead th {\n",
              "        text-align: right;\n",
              "    }\n",
              "</style>\n",
              "<table border=\"1\" class=\"dataframe\">\n",
              "  <thead>\n",
              "    <tr style=\"text-align: right;\">\n",
              "      <th></th>\n",
              "      <th>permalink</th>\n",
              "      <th>name</th>\n",
              "      <th>homepage_url</th>\n",
              "      <th>category_list</th>\n",
              "      <th>market</th>\n",
              "      <th>funding_total_usd</th>\n",
              "      <th>status</th>\n",
              "      <th>country_code</th>\n",
              "      <th>state_code</th>\n",
              "      <th>region</th>\n",
              "      <th>city</th>\n",
              "      <th>funding_rounds</th>\n",
              "      <th>founded_at</th>\n",
              "      <th>founded_month</th>\n",
              "      <th>founded_quarter</th>\n",
              "      <th>founded_year</th>\n",
              "      <th>first_funding_at</th>\n",
              "      <th>last_funding_at</th>\n",
              "      <th>seed</th>\n",
              "      <th>venture</th>\n",
              "      <th>equity_crowdfunding</th>\n",
              "      <th>undisclosed</th>\n",
              "      <th>convertible_note</th>\n",
              "      <th>debt_financing</th>\n",
              "      <th>angel</th>\n",
              "      <th>grant</th>\n",
              "      <th>private_equity</th>\n",
              "      <th>post_ipo_equity</th>\n",
              "      <th>post_ipo_debt</th>\n",
              "      <th>secondary_market</th>\n",
              "      <th>product_crowdfunding</th>\n",
              "      <th>round_A</th>\n",
              "      <th>round_B</th>\n",
              "      <th>round_C</th>\n",
              "      <th>round_D</th>\n",
              "      <th>round_E</th>\n",
              "      <th>round_F</th>\n",
              "      <th>round_G</th>\n",
              "      <th>round_H</th>\n",
              "    </tr>\n",
              "  </thead>\n",
              "  <tbody>\n",
              "    <tr>\n",
              "      <th>0</th>\n",
              "      <td>/organization/waywire</td>\n",
              "      <td>waywire</td>\n",
              "      <td>http://www.waywire.com</td>\n",
              "      <td>|Entertainment|Politics|Social Media|News|</td>\n",
              "      <td>News</td>\n",
              "      <td>17,50,000</td>\n",
              "      <td>acquired</td>\n",
              "      <td>USA</td>\n",
              "      <td>NY</td>\n",
              "      <td>New York City</td>\n",
              "      <td>New York</td>\n",
              "      <td>1.0</td>\n",
              "      <td>2012-06-01</td>\n",
              "      <td>2012-06</td>\n",
              "      <td>2012-Q2</td>\n",
              "      <td>2012.0</td>\n",
              "      <td>2012-06-30</td>\n",
              "      <td>2012-06-30</td>\n",
              "      <td>1750000.0</td>\n",
              "      <td>0.0</td>\n",
              "      <td>0.0</td>\n",
              "      <td>0.0</td>\n",
              "      <td>0.0</td>\n",
              "      <td>0.0</td>\n",
              "      <td>0.0</td>\n",
              "      <td>0.0</td>\n",
              "      <td>0.0</td>\n",
              "      <td>0.0</td>\n",
              "      <td>0.0</td>\n",
              "      <td>0.0</td>\n",
              "      <td>0.0</td>\n",
              "      <td>0.0</td>\n",
              "      <td>0.0</td>\n",
              "      <td>0.0</td>\n",
              "      <td>0.0</td>\n",
              "      <td>0.0</td>\n",
              "      <td>0.0</td>\n",
              "      <td>0.0</td>\n",
              "      <td>0.0</td>\n",
              "    </tr>\n",
              "    <tr>\n",
              "      <th>1</th>\n",
              "      <td>/organization/tv-communications</td>\n",
              "      <td>&amp;TV Communications</td>\n",
              "      <td>http://enjoyandtv.com</td>\n",
              "      <td>|Games|</td>\n",
              "      <td>Games</td>\n",
              "      <td>40,00,000</td>\n",
              "      <td>operating</td>\n",
              "      <td>USA</td>\n",
              "      <td>CA</td>\n",
              "      <td>Los Angeles</td>\n",
              "      <td>Los Angeles</td>\n",
              "      <td>2.0</td>\n",
              "      <td>NaN</td>\n",
              "      <td>NaN</td>\n",
              "      <td>NaN</td>\n",
              "      <td>NaN</td>\n",
              "      <td>2010-06-04</td>\n",
              "      <td>2010-09-23</td>\n",
              "      <td>0.0</td>\n",
              "      <td>4000000.0</td>\n",
              "      <td>0.0</td>\n",
              "      <td>0.0</td>\n",
              "      <td>0.0</td>\n",
              "      <td>0.0</td>\n",
              "      <td>0.0</td>\n",
              "      <td>0.0</td>\n",
              "      <td>0.0</td>\n",
              "      <td>0.0</td>\n",
              "      <td>0.0</td>\n",
              "      <td>0.0</td>\n",
              "      <td>0.0</td>\n",
              "      <td>0.0</td>\n",
              "      <td>0.0</td>\n",
              "      <td>0.0</td>\n",
              "      <td>0.0</td>\n",
              "      <td>0.0</td>\n",
              "      <td>0.0</td>\n",
              "      <td>0.0</td>\n",
              "      <td>0.0</td>\n",
              "    </tr>\n",
              "    <tr>\n",
              "      <th>2</th>\n",
              "      <td>/organization/rock-your-paper</td>\n",
              "      <td>'Rock' Your Paper</td>\n",
              "      <td>http://www.rockyourpaper.org</td>\n",
              "      <td>|Publishing|Education|</td>\n",
              "      <td>Publishing</td>\n",
              "      <td>40,000</td>\n",
              "      <td>operating</td>\n",
              "      <td>EST</td>\n",
              "      <td>NaN</td>\n",
              "      <td>Tallinn</td>\n",
              "      <td>Tallinn</td>\n",
              "      <td>1.0</td>\n",
              "      <td>2012-10-26</td>\n",
              "      <td>2012-10</td>\n",
              "      <td>2012-Q4</td>\n",
              "      <td>2012.0</td>\n",
              "      <td>2012-08-09</td>\n",
              "      <td>2012-08-09</td>\n",
              "      <td>40000.0</td>\n",
              "      <td>0.0</td>\n",
              "      <td>0.0</td>\n",
              "      <td>0.0</td>\n",
              "      <td>0.0</td>\n",
              "      <td>0.0</td>\n",
              "      <td>0.0</td>\n",
              "      <td>0.0</td>\n",
              "      <td>0.0</td>\n",
              "      <td>0.0</td>\n",
              "      <td>0.0</td>\n",
              "      <td>0.0</td>\n",
              "      <td>0.0</td>\n",
              "      <td>0.0</td>\n",
              "      <td>0.0</td>\n",
              "      <td>0.0</td>\n",
              "      <td>0.0</td>\n",
              "      <td>0.0</td>\n",
              "      <td>0.0</td>\n",
              "      <td>0.0</td>\n",
              "      <td>0.0</td>\n",
              "    </tr>\n",
              "    <tr>\n",
              "      <th>3</th>\n",
              "      <td>/organization/in-touch-network</td>\n",
              "      <td>(In)Touch Network</td>\n",
              "      <td>http://www.InTouchNetwork.com</td>\n",
              "      <td>|Electronics|Guides|Coffee|Restaurants|Music|i...</td>\n",
              "      <td>Electronics</td>\n",
              "      <td>15,00,000</td>\n",
              "      <td>operating</td>\n",
              "      <td>GBR</td>\n",
              "      <td>NaN</td>\n",
              "      <td>London</td>\n",
              "      <td>London</td>\n",
              "      <td>1.0</td>\n",
              "      <td>2011-04-01</td>\n",
              "      <td>2011-04</td>\n",
              "      <td>2011-Q2</td>\n",
              "      <td>2011.0</td>\n",
              "      <td>2011-04-01</td>\n",
              "      <td>2011-04-01</td>\n",
              "      <td>1500000.0</td>\n",
              "      <td>0.0</td>\n",
              "      <td>0.0</td>\n",
              "      <td>0.0</td>\n",
              "      <td>0.0</td>\n",
              "      <td>0.0</td>\n",
              "      <td>0.0</td>\n",
              "      <td>0.0</td>\n",
              "      <td>0.0</td>\n",
              "      <td>0.0</td>\n",
              "      <td>0.0</td>\n",
              "      <td>0.0</td>\n",
              "      <td>0.0</td>\n",
              "      <td>0.0</td>\n",
              "      <td>0.0</td>\n",
              "      <td>0.0</td>\n",
              "      <td>0.0</td>\n",
              "      <td>0.0</td>\n",
              "      <td>0.0</td>\n",
              "      <td>0.0</td>\n",
              "      <td>0.0</td>\n",
              "    </tr>\n",
              "    <tr>\n",
              "      <th>4</th>\n",
              "      <td>/organization/r-ranch-and-mine</td>\n",
              "      <td>-R- Ranch and Mine</td>\n",
              "      <td>NaN</td>\n",
              "      <td>|Tourism|Entertainment|Games|</td>\n",
              "      <td>Tourism</td>\n",
              "      <td>60,000</td>\n",
              "      <td>operating</td>\n",
              "      <td>USA</td>\n",
              "      <td>TX</td>\n",
              "      <td>Dallas</td>\n",
              "      <td>Fort Worth</td>\n",
              "      <td>2.0</td>\n",
              "      <td>2014-01-01</td>\n",
              "      <td>2014-01</td>\n",
              "      <td>2014-Q1</td>\n",
              "      <td>2014.0</td>\n",
              "      <td>2014-08-17</td>\n",
              "      <td>2014-09-26</td>\n",
              "      <td>0.0</td>\n",
              "      <td>0.0</td>\n",
              "      <td>60000.0</td>\n",
              "      <td>0.0</td>\n",
              "      <td>0.0</td>\n",
              "      <td>0.0</td>\n",
              "      <td>0.0</td>\n",
              "      <td>0.0</td>\n",
              "      <td>0.0</td>\n",
              "      <td>0.0</td>\n",
              "      <td>0.0</td>\n",
              "      <td>0.0</td>\n",
              "      <td>0.0</td>\n",
              "      <td>0.0</td>\n",
              "      <td>0.0</td>\n",
              "      <td>0.0</td>\n",
              "      <td>0.0</td>\n",
              "      <td>0.0</td>\n",
              "      <td>0.0</td>\n",
              "      <td>0.0</td>\n",
              "      <td>0.0</td>\n",
              "    </tr>\n",
              "  </tbody>\n",
              "</table>\n",
              "</div>"
            ],
            "text/plain": [
              "                         permalink                name  ... round_G round_H\n",
              "0            /organization/waywire             waywire  ...     0.0     0.0\n",
              "1  /organization/tv-communications  &TV Communications  ...     0.0     0.0\n",
              "2    /organization/rock-your-paper   'Rock' Your Paper  ...     0.0     0.0\n",
              "3   /organization/in-touch-network   (In)Touch Network  ...     0.0     0.0\n",
              "4   /organization/r-ranch-and-mine  -R- Ranch and Mine  ...     0.0     0.0\n",
              "\n",
              "[5 rows x 39 columns]"
            ]
          },
          "metadata": {
            "tags": []
          },
          "execution_count": 3
        }
      ]
    },
    {
      "cell_type": "code",
      "metadata": {
        "id": "n8LSTxoAUtzD",
        "colab_type": "code",
        "colab": {}
      },
      "source": [
        "train, test = train_test_split(df, random_state=24)\n",
        "train, val = train_test_split(train, random_state=24)"
      ],
      "execution_count": 0,
      "outputs": []
    },
    {
      "cell_type": "code",
      "metadata": {
        "id": "UwaSNA2aWL_A",
        "colab_type": "code",
        "colab": {
          "base_uri": "https://localhost:8080/",
          "height": 32
        },
        "outputId": "38d207d7-769d-445f-d8bc-f0f32011529b"
      },
      "source": [
        "train.shape, val.shape, test.shape"
      ],
      "execution_count": 19,
      "outputs": [
        {
          "output_type": "execute_result",
          "data": {
            "text/plain": [
              "((30540, 39), (10180, 39), (13574, 39))"
            ]
          },
          "metadata": {
            "tags": []
          },
          "execution_count": 19
        }
      ]
    },
    {
      "cell_type": "code",
      "metadata": {
        "id": "duinrYu-mZee",
        "colab_type": "code",
        "colab": {
          "base_uri": "https://localhost:8080/",
          "height": 201
        },
        "outputId": "01379da9-cc00-475d-bdbc-a7f96d1d17d1"
      },
      "source": [
        "# Choose your target. Which column in your tabular dataset will you predict?\n",
        "import category_encoders as ce\n",
        "\n",
        "target = 'status'\n",
        "y_train = train[target]\n",
        "\n",
        "encoder = ce.OrdinalEncoder()\n",
        "y_train_encoded = encoder.fit_transform(y_train)"
      ],
      "execution_count": 40,
      "outputs": [
        {
          "output_type": "execute_result",
          "data": {
            "text/html": [
              "<div>\n",
              "<style scoped>\n",
              "    .dataframe tbody tr th:only-of-type {\n",
              "        vertical-align: middle;\n",
              "    }\n",
              "\n",
              "    .dataframe tbody tr th {\n",
              "        vertical-align: top;\n",
              "    }\n",
              "\n",
              "    .dataframe thead th {\n",
              "        text-align: right;\n",
              "    }\n",
              "</style>\n",
              "<table border=\"1\" class=\"dataframe\">\n",
              "  <thead>\n",
              "    <tr style=\"text-align: right;\">\n",
              "      <th></th>\n",
              "      <th>status</th>\n",
              "    </tr>\n",
              "  </thead>\n",
              "  <tbody>\n",
              "    <tr>\n",
              "      <th>39306</th>\n",
              "      <td>1</td>\n",
              "    </tr>\n",
              "    <tr>\n",
              "      <th>27795</th>\n",
              "      <td>1</td>\n",
              "    </tr>\n",
              "    <tr>\n",
              "      <th>33766</th>\n",
              "      <td>2</td>\n",
              "    </tr>\n",
              "    <tr>\n",
              "      <th>33716</th>\n",
              "      <td>2</td>\n",
              "    </tr>\n",
              "    <tr>\n",
              "      <th>17753</th>\n",
              "      <td>2</td>\n",
              "    </tr>\n",
              "  </tbody>\n",
              "</table>\n",
              "</div>"
            ],
            "text/plain": [
              "       status\n",
              "39306       1\n",
              "27795       1\n",
              "33766       2\n",
              "33716       2\n",
              "17753       2"
            ]
          },
          "metadata": {
            "tags": []
          },
          "execution_count": 40
        }
      ]
    },
    {
      "cell_type": "code",
      "metadata": {
        "id": "SPggdMeccYVC",
        "colab_type": "code",
        "colab": {
          "base_uri": "https://localhost:8080/",
          "height": 98
        },
        "outputId": "41a93651-d180-42b5-c42c-83550a0151ca"
      },
      "source": [
        "y_train.value_counts(dropna=False)"
      ],
      "execution_count": 46,
      "outputs": [
        {
          "output_type": "execute_result",
          "data": {
            "text/plain": [
              "operating    23405\n",
              "NaN           3548\n",
              "acquired      2097\n",
              "closed        1490\n",
              "Name: status, dtype: int64"
            ]
          },
          "metadata": {
            "tags": []
          },
          "execution_count": 46
        }
      ]
    },
    {
      "cell_type": "code",
      "metadata": {
        "id": "AOxoaTAnmwnM",
        "colab_type": "code",
        "outputId": "0473bc2f-0dfa-4b82-8984-8f03da815475",
        "colab": {
          "base_uri": "https://localhost:8080/",
          "height": 82
        }
      },
      "source": [
        "# Is your problem regression or classification? classification\n",
        "y_train.value_counts(normalize=True)"
      ],
      "execution_count": 21,
      "outputs": [
        {
          "output_type": "execute_result",
          "data": {
            "text/plain": [
              "operating    0.867109\n",
              "acquired     0.077690\n",
              "closed       0.055202\n",
              "Name: status, dtype: float64"
            ]
          },
          "metadata": {
            "tags": []
          },
          "execution_count": 21
        }
      ]
    },
    {
      "cell_type": "code",
      "metadata": {
        "id": "mzN6XvRrcAon",
        "colab_type": "code",
        "colab": {
          "base_uri": "https://localhost:8080/",
          "height": 98
        },
        "outputId": "61d03471-091a-4789-ecab-df381295a170"
      },
      "source": [
        "y_train_encoded[target].value_counts(normalize=True)"
      ],
      "execution_count": 43,
      "outputs": [
        {
          "output_type": "execute_result",
          "data": {
            "text/plain": [
              "2    0.766372\n",
              "3    0.116176\n",
              "1    0.068664\n",
              "4    0.048788\n",
              "Name: status, dtype: float64"
            ]
          },
          "metadata": {
            "tags": []
          },
          "execution_count": 43
        }
      ]
    },
    {
      "cell_type": "code",
      "metadata": {
        "id": "3jhotmfOm3tF",
        "colab_type": "code",
        "outputId": "d6827a2b-536e-49fe-add8-c91d7b9368ce",
        "colab": {
          "base_uri": "https://localhost:8080/",
          "height": 302
        }
      },
      "source": [
        "# How is your target distributed?\n",
        "# Classification: How many classes? Are the classes imbalanced?\n",
        "y_train.value_counts(normalize=True).plot.bar();"
      ],
      "execution_count": 44,
      "outputs": [
        {
          "output_type": "display_data",
          "data": {
            "image/png": "[encoded data removed]",
            "text/plain": [
              "<Figure size 432x288 with 1 Axes>"
            ]
          },
          "metadata": {
            "tags": []
          }
        }
      ]
    },
    {
      "cell_type": "code",
      "metadata": {
        "id": "96qJWonInnQK",
        "colab_type": "code",
        "outputId": "6e2af5fe-3501-4cab-9db8-42923a79907e",
        "colab": {
          "base_uri": "https://localhost:8080/",
          "height": 294
        }
      },
      "source": [
        "import seaborn as sns\n",
        "sns.distplot(y_train.value_counts(normalize=True))"
      ],
      "execution_count": 23,
      "outputs": [
        {
          "output_type": "execute_result",
          "data": {
            "text/plain": [
              "<matplotlib.axes._subplots.AxesSubplot at 0x7f8cb6bcd3c8>"
            ]
          },
          "metadata": {
            "tags": []
          },
          "execution_count": 23
        },
        {
          "output_type": "display_data",
          "data": {
            "image/png": "[encoded data removed]",
            "text/plain": [
              "<Figure size 432x288 with 1 Axes>"
            ]
          },
          "metadata": {
            "tags": []
          }
        }
      ]
    },
    {
      "cell_type": "code",
      "metadata": {
        "id": "wF_0Ui-lnINs",
        "colab_type": "code",
        "colab": {
          "base_uri": "https://localhost:8080/",
          "height": 32
        },
        "outputId": "6f5c03c2-4c6d-4af0-c818-fd1f63ab2a42"
      },
      "source": [
        "# Choose your evaluation metric(s).\n",
        "# accuracy \n",
        "from sklearn.metrics import accuracy_score\n",
        "\n",
        "majority_class = y_train_encoded[target].mode()[0]\n",
        "y_pred = [majority_class] * len(y_train_encoded)\n",
        "accuracy_score(y_train_encoded[target],y_pred)"
      ],
      "execution_count": 53,
      "outputs": [
        {
          "output_type": "execute_result",
          "data": {
            "text/plain": [
              "0.7663719711853307"
            ]
          },
          "metadata": {
            "tags": []
          },
          "execution_count": 53
        }
      ]
    },
    {
      "cell_type": "code",
      "metadata": {
        "id": "msngAvLjnyY_",
        "colab_type": "code",
        "outputId": "591b3be3-a75a-41b9-fac3-c84372c5c61a",
        "colab": {
          "base_uri": "https://localhost:8080/",
          "height": 52
        }
      },
      "source": [
        "# Choose which observations you will use to train, validate, and test your model.\n",
        "\n",
        "# unusable columns\n",
        "unusable = ['permalink','name','homepage_url']\n",
        "train.drop(columns=unusable)\n",
        "\n",
        "train_features = train.drop(columns=[target])\n",
        "\n",
        "numeric_features = train_features.select_dtypes(include='number').columns.tolist()\n",
        "\n",
        "cardinality = train_features.select_dtypes(exclude='number').nunique()\n",
        "\n",
        "categorical_features = cardinality[cardinality <= 50].index.tolist()\n",
        "\n",
        "features = numeric_features + categorical_features\n",
        "print(features)"
      ],
      "execution_count": 54,
      "outputs": [
        {
          "output_type": "stream",
          "text": [
            "['funding_rounds', 'founded_year', 'seed', 'venture', 'equity_crowdfunding', 'undisclosed', 'convertible_note', 'debt_financing', 'angel', 'grant', 'private_equity', 'post_ipo_equity', 'post_ipo_debt', 'secondary_market', 'product_crowdfunding', 'round_A', 'round_B', 'round_C', 'round_D', 'round_E', 'round_F', 'round_G', 'round_H']\n"
          ],
          "name": "stdout"
        }
      ]
    },
    {
      "cell_type": "code",
      "metadata": {
        "id": "wF6k_qj-fz6e",
        "colab_type": "code",
        "colab": {}
      },
      "source": [
        "X_train = train[features]\n",
        "y_train = train[target]\n",
        "X_val = val[features]\n",
        "y_val = val[target]"
      ],
      "execution_count": 0,
      "outputs": []
    },
    {
      "cell_type": "code",
      "metadata": {
        "id": "RZLXA9Z4vhfZ",
        "colab_type": "code",
        "outputId": "44e67ed0-2c82-4666-e09a-da8b1e28f559",
        "colab": {
          "base_uri": "https://localhost:8080/",
          "height": 32
        }
      },
      "source": [
        "df.iloc[:, [4]].columns#.value_counts()"
      ],
      "execution_count": 56,
      "outputs": [
        {
          "output_type": "execute_result",
          "data": {
            "text/plain": [
              "Index(['market'], dtype='object')"
            ]
          },
          "metadata": {
            "tags": []
          },
          "execution_count": 56
        }
      ]
    },
    {
      "cell_type": "code",
      "metadata": {
        "id": "S5CLYBxXvWmy",
        "colab_type": "code",
        "colab": {}
      },
      "source": [
        "df.columns = df.columns.str.strip()\n",
        "\n",
        "# TODO\n",
        "# encode category_list"
      ],
      "execution_count": 0,
      "outputs": []
    },
    {
      "cell_type": "code",
      "metadata": {
        "id": "a6tCchmKGwMJ",
        "colab_type": "code",
        "outputId": "ba81a271-4960-40a6-d38e-510a8cc973e8",
        "colab": {
          "base_uri": "https://localhost:8080/",
          "height": 214
        }
      },
      "source": [
        "df['market'].value_counts()"
      ],
      "execution_count": 13,
      "outputs": [
        {
          "output_type": "execute_result",
          "data": {
            "text/plain": [
              " Software                    4620\n",
              " Biotechnology               3688\n",
              " Mobile                      1983\n",
              " E-Commerce                  1805\n",
              " Curated Web                 1655\n",
              "                             ... \n",
              " Natural Gas Uses               1\n",
              " Social Opinion Platform        1\n",
              " Musical Instruments            1\n",
              " Governance                     1\n",
              " EDA Tools                      1\n",
              "Name: market, Length: 753, dtype: int64"
            ]
          },
          "metadata": {
            "tags": []
          },
          "execution_count": 13
        }
      ]
    },
    {
      "cell_type": "code",
      "metadata": {
        "id": "Pm0iuXdkIbDt",
        "colab_type": "code",
        "colab": {}
      },
      "source": [
        ""
      ],
      "execution_count": 0,
      "outputs": []
    }
  ]
}